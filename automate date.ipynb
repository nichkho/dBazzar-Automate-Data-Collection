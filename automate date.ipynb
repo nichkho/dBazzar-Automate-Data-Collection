{
 "cells": [
  {
   "cell_type": "code",
   "execution_count": 1,
   "id": "ade48f40",
   "metadata": {},
   "outputs": [],
   "source": [
    "import requests\n",
    "from bs4 import BeautifulSoup\n",
    "import pandas as pd\n",
    "import time\n",
    "from selenium.webdriver.chrome.options import Options\n",
    "import os"
   ]
  },
  {
   "cell_type": "code",
   "execution_count": 2,
   "id": "b5ecc069",
   "metadata": {},
   "outputs": [],
   "source": [
    "#Load HTML Files here:"
   ]
  },
  {
   "cell_type": "code",
   "execution_count": 3,
   "id": "3f993b4f",
   "metadata": {},
   "outputs": [],
   "source": [
    "HTMLFile1 = open(r\"C:\\Users\\Nicko\\Notebooks\\dbazzar_table\\8-8-2021-1.html\", encoding=\"utf8\")\n",
    "HTMLFile2 = open(r\"C:\\Users\\Nicko\\Notebooks\\dbazzar_table\\8-8-2021-2.html\", encoding=\"utf8\")\n",
    "HTMLFile3 = open(r\"C:\\Users\\Nicko\\Notebooks\\dbazzar_table\\8-8-2021-3.html\", encoding=\"utf8\")\n",
    "HTMLFile4 = open(r\"C:\\Users\\Nicko\\Notebooks\\dbazzar_table\\8-8-2021-4.html\", encoding=\"utf8\")\n",
    "HTMLFile5 = open(r\"C:\\Users\\Nicko\\Notebooks\\dbazzar_table\\8-8-2021-5.html\", encoding=\"utf8\")\n",
    "HTMLFile6 = open(r\"C:\\Users\\Nicko\\Notebooks\\dbazzar_table\\8-8-2021-6.html\", encoding=\"utf8\")\n",
    "HTMLFile7 = open(r\"C:\\Users\\Nicko\\Notebooks\\dbazzar_table\\8-8-2021-7.html\", encoding=\"utf8\")\n",
    "\n",
    "index1 = HTMLFile1.read()\n",
    "index2 = HTMLFile2.read()\n",
    "index3 = HTMLFile3.read()\n",
    "index4 = HTMLFile4.read()\n",
    "index5 = HTMLFile5.read()\n",
    "index6 = HTMLFile6.read()\n",
    "index7 = HTMLFile7.read()"
   ]
  },
  {
   "cell_type": "code",
   "execution_count": 4,
   "id": "035fce51",
   "metadata": {},
   "outputs": [],
   "source": [
    "#Convert to dataframe"
   ]
  },
  {
   "cell_type": "code",
   "execution_count": 5,
   "id": "b81b7e34",
   "metadata": {},
   "outputs": [],
   "source": [
    "df1 = pd.read_html(index1)[0]\n",
    "df2 = pd.read_html(index2)[0]\n",
    "df3 = pd.read_html(index3)[0]\n",
    "df4 = pd.read_html(index4)[0]\n",
    "df5 = pd.read_html(index5)[0]\n",
    "df6 = pd.read_html(index6)[0]\n",
    "df7 = pd.read_html(index7)[0]"
   ]
  },
  {
   "cell_type": "code",
   "execution_count": 6,
   "id": "0ca2aa0a",
   "metadata": {},
   "outputs": [],
   "source": [
    "#Cleaning Methods"
   ]
  },
  {
   "cell_type": "code",
   "execution_count": 7,
   "id": "b880b8c2",
   "metadata": {},
   "outputs": [],
   "source": [
    "def clean_date(date):\n",
    "    return date[:10]"
   ]
  },
  {
   "cell_type": "code",
   "execution_count": 8,
   "id": "491f4e95",
   "metadata": {},
   "outputs": [],
   "source": [
    "def clean_total(total):\n",
    "    if total == 'RM':\n",
    "        return 0\n",
    "    else:\n",
    "        string = total[3:]\n",
    "        return float(string)"
   ]
  },
  {
   "cell_type": "code",
   "execution_count": null,
   "id": "6ee65935",
   "metadata": {},
   "outputs": [],
   "source": [
    "#Create and Clean Dataframe"
   ]
  },
  {
   "cell_type": "code",
   "execution_count": 9,
   "id": "1272fc7a",
   "metadata": {},
   "outputs": [],
   "source": [
    "df_ls = [df2,df3,df4,df5,df6,df7]"
   ]
  },
  {
   "cell_type": "code",
   "execution_count": 10,
   "id": "5c4ae1a8",
   "metadata": {},
   "outputs": [],
   "source": [
    "df = df1.append(df_ls)"
   ]
  },
  {
   "cell_type": "code",
   "execution_count": 11,
   "id": "409a8b83",
   "metadata": {},
   "outputs": [],
   "source": [
    "df.drop_duplicates(subset =\"ID\", inplace = True)"
   ]
  },
  {
   "cell_type": "code",
   "execution_count": 12,
   "id": "b723b753",
   "metadata": {},
   "outputs": [],
   "source": [
    "df['Order Date/Time'] = df['Order Date/Time'].apply(clean_date)"
   ]
  },
  {
   "cell_type": "code",
   "execution_count": 13,
   "id": "aec4a175",
   "metadata": {},
   "outputs": [],
   "source": [
    "df = df[df['Order Date/Time'] == '2021-08-08']"
   ]
  },
  {
   "cell_type": "code",
   "execution_count": 14,
   "id": "a13d3b5e",
   "metadata": {},
   "outputs": [],
   "source": [
    "df = df[df['Status'] != 'Cancelled']"
   ]
  },
  {
   "cell_type": "code",
   "execution_count": 15,
   "id": "058f1d29",
   "metadata": {},
   "outputs": [],
   "source": [
    "df['Total'] = df['Total'].apply(clean_total)"
   ]
  },
  {
   "cell_type": "code",
   "execution_count": 17,
   "id": "9e97858f",
   "metadata": {},
   "outputs": [
    {
     "data": {
      "text/html": [
       "<div>\n",
       "<style scoped>\n",
       "    .dataframe tbody tr th:only-of-type {\n",
       "        vertical-align: middle;\n",
       "    }\n",
       "\n",
       "    .dataframe tbody tr th {\n",
       "        vertical-align: top;\n",
       "    }\n",
       "\n",
       "    .dataframe thead th {\n",
       "        text-align: right;\n",
       "    }\n",
       "</style>\n",
       "<table border=\"1\" class=\"dataframe\">\n",
       "  <thead>\n",
       "    <tr style=\"text-align: right;\">\n",
       "      <th></th>\n",
       "      <th>ID</th>\n",
       "      <th>Unnamed: 1</th>\n",
       "      <th>Customer</th>\n",
       "      <th>Order Date/Time</th>\n",
       "      <th>Total</th>\n",
       "      <th>rider</th>\n",
       "      <th>Payment Status</th>\n",
       "      <th>Status</th>\n",
       "      <th>Type</th>\n",
       "      <th>Actions</th>\n",
       "    </tr>\n",
       "  </thead>\n",
       "  <tbody>\n",
       "    <tr>\n",
       "      <th>47</th>\n",
       "      <td>33610</td>\n",
       "      <td>Topup Topup</td>\n",
       "      <td>PAU KEK NGIIK (0128891922)</td>\n",
       "      <td>2021-08-08</td>\n",
       "      <td>50.0</td>\n",
       "      <td>NaN</td>\n",
       "      <td>Not Paid</td>\n",
       "      <td>Completed</td>\n",
       "      <td>E-Wallet Topup</td>\n",
       "      <td>NaN</td>\n",
       "    </tr>\n",
       "    <tr>\n",
       "      <th>48</th>\n",
       "      <td>33609</td>\n",
       "      <td>Lazyhp 懒人锅(Sibu) Lazyhp 懒人锅(Sibu)-Coming Soon</td>\n",
       "      <td>robbins hii hiong sing (0138519938)</td>\n",
       "      <td>2021-08-08</td>\n",
       "      <td>55.0</td>\n",
       "      <td>NaN</td>\n",
       "      <td>Paid</td>\n",
       "      <td>Completed</td>\n",
       "      <td>Scan &amp; Pay</td>\n",
       "      <td>NaN</td>\n",
       "    </tr>\n",
       "    <tr>\n",
       "      <th>49</th>\n",
       "      <td>33608</td>\n",
       "      <td>Topup Topup</td>\n",
       "      <td>Floren anak Agan (0162698146)</td>\n",
       "      <td>2021-08-08</td>\n",
       "      <td>50.0</td>\n",
       "      <td>NaN</td>\n",
       "      <td>Paid</td>\n",
       "      <td>Completed</td>\n",
       "      <td>E-Wallet Topup</td>\n",
       "      <td>NaN</td>\n",
       "    </tr>\n",
       "    <tr>\n",
       "      <th>50</th>\n",
       "      <td>33607</td>\n",
       "      <td>Excellent Book Co(Sibu) Excellent Book Co(Sibu...</td>\n",
       "      <td>Florence Wong Poh Hong (0165761115)</td>\n",
       "      <td>2021-08-08</td>\n",
       "      <td>20.0</td>\n",
       "      <td>NaN</td>\n",
       "      <td>Paid</td>\n",
       "      <td>Completed</td>\n",
       "      <td>Scan &amp; Pay</td>\n",
       "      <td>NaN</td>\n",
       "    </tr>\n",
       "    <tr>\n",
       "      <th>51</th>\n",
       "      <td>33606</td>\n",
       "      <td>Excellent Book Co(Sibu) Excellent Book Co(Sibu...</td>\n",
       "      <td>Ting Kah Chai (0165754848)</td>\n",
       "      <td>2021-08-08</td>\n",
       "      <td>20.0</td>\n",
       "      <td>NaN</td>\n",
       "      <td>Paid</td>\n",
       "      <td>Completed</td>\n",
       "      <td>Scan &amp; Pay</td>\n",
       "      <td>NaN</td>\n",
       "    </tr>\n",
       "    <tr>\n",
       "      <th>...</th>\n",
       "      <td>...</td>\n",
       "      <td>...</td>\n",
       "      <td>...</td>\n",
       "      <td>...</td>\n",
       "      <td>...</td>\n",
       "      <td>...</td>\n",
       "      <td>...</td>\n",
       "      <td>...</td>\n",
       "      <td>...</td>\n",
       "      <td>...</td>\n",
       "    </tr>\n",
       "    <tr>\n",
       "      <th>56</th>\n",
       "      <td>33007</td>\n",
       "      <td>Park-In (Sibu) Park-In (Sibu)</td>\n",
       "      <td>Su Teck Mew (0168885771)</td>\n",
       "      <td>2021-08-08</td>\n",
       "      <td>20.5</td>\n",
       "      <td>NaN</td>\n",
       "      <td>Paid</td>\n",
       "      <td>Completed</td>\n",
       "      <td>Scan &amp; Pay</td>\n",
       "      <td>NaN</td>\n",
       "    </tr>\n",
       "    <tr>\n",
       "      <th>57</th>\n",
       "      <td>33006</td>\n",
       "      <td>Topup Topup</td>\n",
       "      <td>She Kui Fun Classic (0138492400)</td>\n",
       "      <td>2021-08-08</td>\n",
       "      <td>35.0</td>\n",
       "      <td>NaN</td>\n",
       "      <td>Paid</td>\n",
       "      <td>Completed</td>\n",
       "      <td>E-Wallet Topup</td>\n",
       "      <td>NaN</td>\n",
       "    </tr>\n",
       "    <tr>\n",
       "      <th>58</th>\n",
       "      <td>33005</td>\n",
       "      <td>Park-In (Sibu) Park-In (Sibu)</td>\n",
       "      <td>chiew hua fung (0138088288)</td>\n",
       "      <td>2021-08-08</td>\n",
       "      <td>104.1</td>\n",
       "      <td>NaN</td>\n",
       "      <td>Paid</td>\n",
       "      <td>Completed</td>\n",
       "      <td>Scan &amp; Pay</td>\n",
       "      <td>NaN</td>\n",
       "    </tr>\n",
       "    <tr>\n",
       "      <th>59</th>\n",
       "      <td>33004</td>\n",
       "      <td>Topup Topup</td>\n",
       "      <td>Lau Siong Ngee (60198220383)</td>\n",
       "      <td>2021-08-08</td>\n",
       "      <td>50.0</td>\n",
       "      <td>NaN</td>\n",
       "      <td>Not Paid</td>\n",
       "      <td>Completed</td>\n",
       "      <td>E-Wallet Topup</td>\n",
       "      <td>NaN</td>\n",
       "    </tr>\n",
       "    <tr>\n",
       "      <th>60</th>\n",
       "      <td>33003</td>\n",
       "      <td>Topup Topup</td>\n",
       "      <td>Lau Siong Ngee (60198220383)</td>\n",
       "      <td>2021-08-08</td>\n",
       "      <td>50.0</td>\n",
       "      <td>NaN</td>\n",
       "      <td>Not Paid</td>\n",
       "      <td>Completed</td>\n",
       "      <td>E-Wallet Topup</td>\n",
       "      <td>NaN</td>\n",
       "    </tr>\n",
       "  </tbody>\n",
       "</table>\n",
       "<p>605 rows × 10 columns</p>\n",
       "</div>"
      ],
      "text/plain": [
       "       ID                                         Unnamed: 1  \\\n",
       "47  33610                                        Topup Topup   \n",
       "48  33609      Lazyhp 懒人锅(Sibu) Lazyhp 懒人锅(Sibu)-Coming Soon   \n",
       "49  33608                                        Topup Topup   \n",
       "50  33607  Excellent Book Co(Sibu) Excellent Book Co(Sibu...   \n",
       "51  33606  Excellent Book Co(Sibu) Excellent Book Co(Sibu...   \n",
       "..    ...                                                ...   \n",
       "56  33007                      Park-In (Sibu) Park-In (Sibu)   \n",
       "57  33006                                        Topup Topup   \n",
       "58  33005                      Park-In (Sibu) Park-In (Sibu)   \n",
       "59  33004                                        Topup Topup   \n",
       "60  33003                                        Topup Topup   \n",
       "\n",
       "                               Customer Order Date/Time  Total  rider  \\\n",
       "47           PAU KEK NGIIK (0128891922)      2021-08-08   50.0    NaN   \n",
       "48  robbins hii hiong sing (0138519938)      2021-08-08   55.0    NaN   \n",
       "49        Floren anak Agan (0162698146)      2021-08-08   50.0    NaN   \n",
       "50  Florence Wong Poh Hong (0165761115)      2021-08-08   20.0    NaN   \n",
       "51           Ting Kah Chai (0165754848)      2021-08-08   20.0    NaN   \n",
       "..                                  ...             ...    ...    ...   \n",
       "56             Su Teck Mew (0168885771)      2021-08-08   20.5    NaN   \n",
       "57     She Kui Fun Classic (0138492400)      2021-08-08   35.0    NaN   \n",
       "58          chiew hua fung (0138088288)      2021-08-08  104.1    NaN   \n",
       "59         Lau Siong Ngee (60198220383)      2021-08-08   50.0    NaN   \n",
       "60         Lau Siong Ngee (60198220383)      2021-08-08   50.0    NaN   \n",
       "\n",
       "   Payment Status     Status            Type  Actions  \n",
       "47       Not Paid  Completed  E-Wallet Topup      NaN  \n",
       "48           Paid  Completed      Scan & Pay      NaN  \n",
       "49           Paid  Completed  E-Wallet Topup      NaN  \n",
       "50           Paid  Completed      Scan & Pay      NaN  \n",
       "51           Paid  Completed      Scan & Pay      NaN  \n",
       "..            ...        ...             ...      ...  \n",
       "56           Paid  Completed      Scan & Pay      NaN  \n",
       "57           Paid  Completed  E-Wallet Topup      NaN  \n",
       "58           Paid  Completed      Scan & Pay      NaN  \n",
       "59       Not Paid  Completed  E-Wallet Topup      NaN  \n",
       "60       Not Paid  Completed  E-Wallet Topup      NaN  \n",
       "\n",
       "[605 rows x 10 columns]"
      ]
     },
     "execution_count": 17,
     "metadata": {},
     "output_type": "execute_result"
    }
   ],
   "source": [
    "df"
   ]
  },
  {
   "cell_type": "code",
   "execution_count": null,
   "id": "5a167c44",
   "metadata": {},
   "outputs": [],
   "source": [
    "#Top Up Sum"
   ]
  },
  {
   "cell_type": "code",
   "execution_count": 18,
   "id": "601f1036",
   "metadata": {},
   "outputs": [],
   "source": [
    "Topupdf = df[df['Payment Status'] == 'Paid']"
   ]
  },
  {
   "cell_type": "code",
   "execution_count": 25,
   "id": "5114aa1f",
   "metadata": {},
   "outputs": [
    {
     "data": {
      "text/plain": [
       "1908.2"
      ]
     },
     "execution_count": 25,
     "metadata": {},
     "output_type": "execute_result"
    }
   ],
   "source": [
    "Topupdf[Topupdf['Type'] == 'E-Wallet Topup']['Total'].sum()"
   ]
  },
  {
   "cell_type": "code",
   "execution_count": 114,
   "id": "0129b304",
   "metadata": {
    "scrolled": true
   },
   "outputs": [
    {
     "data": {
      "text/plain": [
       "Scan & Pay         316\n",
       "E-Wallet Topup     193\n",
       "Takeaway            59\n",
       "Delivery            33\n",
       "E-Voucher Topup      4\n",
       "Name: Type, dtype: int64"
      ]
     },
     "execution_count": 114,
     "metadata": {},
     "output_type": "execute_result"
    }
   ],
   "source": [
    "df['Type'].value_counts()"
   ]
  },
  {
   "cell_type": "code",
   "execution_count": 73,
   "id": "fce171a8",
   "metadata": {},
   "outputs": [],
   "source": [
    "date = '2021-08-08'"
   ]
  },
  {
   "cell_type": "code",
   "execution_count": null,
   "id": "ea4b891d",
   "metadata": {},
   "outputs": [],
   "source": [
    "#Create Function:"
   ]
  },
  {
   "cell_type": "code",
   "execution_count": 27,
   "id": "2b8065d8",
   "metadata": {},
   "outputs": [],
   "source": [
    "def collect_data(date,df1,df_ls):\n",
    "    #create df\n",
    "    df = df1.append(df_ls)\n",
    "    df.drop_duplicates(subset =\"ID\", inplace = True)\n",
    "    #clean df\n",
    "    df['Order Date/Time'] = df['Order Date/Time'].apply(clean_date)\n",
    "    df = df[df['Order Date/Time'] == date]\n",
    "    df = df[df['Status'] != 'Cancelled']\n",
    "    df['Total'] = df['Total'].apply(clean_total)\n",
    "    #get Topup Sum\n",
    "    Topupdf = df[df['Payment Status'] == 'Paid']\n",
    "    return df['Type'].value_counts(), Topupdf[Topupdf['Type'] == 'E-Wallet Topup']['Total'].sum()"
   ]
  },
  {
   "cell_type": "code",
   "execution_count": null,
   "id": "fe5c845e",
   "metadata": {},
   "outputs": [],
   "source": [
    "collect_data()"
   ]
  }
 ],
 "metadata": {
  "kernelspec": {
   "display_name": "Python 3",
   "language": "python",
   "name": "python3"
  },
  "language_info": {
   "codemirror_mode": {
    "name": "ipython",
    "version": 3
   },
   "file_extension": ".py",
   "mimetype": "text/x-python",
   "name": "python",
   "nbconvert_exporter": "python",
   "pygments_lexer": "ipython3",
   "version": "3.8.8"
  }
 },
 "nbformat": 4,
 "nbformat_minor": 5
}
