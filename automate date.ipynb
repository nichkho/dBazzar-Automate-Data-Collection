{
 "cells": [
  {
   "cell_type": "code",
   "execution_count": 1,
   "id": "ade48f40",
   "metadata": {},
   "outputs": [],
   "source": [
    "import requests\n",
    "from bs4 import BeautifulSoup\n",
    "import pandas as pd\n",
    "import time\n",
    "from selenium.webdriver.chrome.options import Options\n",
    "import os"
   ]
  },
  {
   "cell_type": "code",
   "execution_count": 2,
   "id": "053aac2b",
   "metadata": {},
   "outputs": [],
   "source": [
    "#Load HTML Files here:"
   ]
  },
  {
   "cell_type": "code",
   "execution_count": 3,
   "id": "3f993b4f",
   "metadata": {},
   "outputs": [],
   "source": [
    "HTMLFile1 = open(r\"C:\\Users\\Nicko\\Notebooks\\dbazzar_table\\8-8-2021-1.html\", encoding=\"utf8\")\n",
    "HTMLFile2 = open(r\"C:\\Users\\Nicko\\Notebooks\\dbazzar_table\\8-8-2021-2.html\", encoding=\"utf8\")\n",
    "HTMLFile3 = open(r\"C:\\Users\\Nicko\\Notebooks\\dbazzar_table\\8-8-2021-3.html\", encoding=\"utf8\")\n",
    "HTMLFile4 = open(r\"C:\\Users\\Nicko\\Notebooks\\dbazzar_table\\8-8-2021-4.html\", encoding=\"utf8\")\n",
    "HTMLFile5 = open(r\"C:\\Users\\Nicko\\Notebooks\\dbazzar_table\\8-8-2021-5.html\", encoding=\"utf8\")\n",
    "HTMLFile6 = open(r\"C:\\Users\\Nicko\\Notebooks\\dbazzar_table\\8-8-2021-6.html\", encoding=\"utf8\")\n",
    "HTMLFile7 = open(r\"C:\\Users\\Nicko\\Notebooks\\dbazzar_table\\8-8-2021-7.html\", encoding=\"utf8\")\n",
    "\n",
    "index1 = HTMLFile1.read()\n",
    "index2 = HTMLFile2.read()\n",
    "index3 = HTMLFile3.read()\n",
    "index4 = HTMLFile4.read()\n",
    "index5 = HTMLFile5.read()\n",
    "index6 = HTMLFile6.read()\n",
    "index7 = HTMLFile7.read()"
   ]
  },
  {
   "cell_type": "code",
   "execution_count": 4,
   "id": "035fce51",
   "metadata": {},
   "outputs": [],
   "source": [
    "#Convert to dataframe"
   ]
  },
  {
   "cell_type": "code",
   "execution_count": 5,
   "id": "b81b7e34",
   "metadata": {},
   "outputs": [],
   "source": [
    "df1 = pd.read_html(index1)[0]\n",
    "df2 = pd.read_html(index2)[0]\n",
    "df3 = pd.read_html(index3)[0]\n",
    "df4 = pd.read_html(index4)[0]\n",
    "df5 = pd.read_html(index5)[0]\n",
    "df6 = pd.read_html(index6)[0]\n",
    "df7 = pd.read_html(index7)[0]"
   ]
  },
  {
   "cell_type": "code",
   "execution_count": 6,
   "id": "b4da5099",
   "metadata": {},
   "outputs": [],
   "source": [
    "#Cleaning Methods"
   ]
  },
  {
   "cell_type": "code",
   "execution_count": 7,
   "id": "b880b8c2",
   "metadata": {},
   "outputs": [],
   "source": [
    "def clean_date(date):\n",
    "    return date[:10]"
   ]
  },
  {
   "cell_type": "code",
   "execution_count": 8,
   "id": "491f4e95",
   "metadata": {},
   "outputs": [],
   "source": [
    "def clean_total(total):\n",
    "    if total == 'RM':\n",
    "        return 0\n",
    "    else:\n",
    "        string = total[3:]\n",
    "        return float(string)"
   ]
  },
  {
   "cell_type": "code",
   "execution_count": null,
   "id": "3e2681a3",
   "metadata": {},
   "outputs": [],
   "source": [
    "#Create and Clean Dataframe"
   ]
  },
  {
   "cell_type": "code",
   "execution_count": 9,
   "id": "1272fc7a",
   "metadata": {},
   "outputs": [],
   "source": [
    "df_ls = [df2,df3,df4,df5,df6,df7]"
   ]
  },
  {
   "cell_type": "code",
   "execution_count": 10,
   "id": "5c4ae1a8",
   "metadata": {},
   "outputs": [],
   "source": [
    "df = df1.append(df_ls)"
   ]
  },
  {
   "cell_type": "code",
   "execution_count": 11,
   "id": "409a8b83",
   "metadata": {},
   "outputs": [],
   "source": [
    "df.drop_duplicates(subset =\"ID\", inplace = True)"
   ]
  },
  {
   "cell_type": "code",
   "execution_count": 12,
   "id": "b723b753",
   "metadata": {},
   "outputs": [],
   "source": [
    "df['Order Date/Time'] = df['Order Date/Time'].apply(clean_date)"
   ]
  },
  {
   "cell_type": "code",
   "execution_count": 13,
   "id": "aec4a175",
   "metadata": {},
   "outputs": [],
   "source": [
    "df = df[df['Order Date/Time'] == '2021-08-08']"
   ]
  },
  {
   "cell_type": "code",
   "execution_count": 14,
   "id": "a13d3b5e",
   "metadata": {},
   "outputs": [],
   "source": [
    "df = df[df['Status'] != 'Cancelled']"
   ]
  },
  {
   "cell_type": "code",
   "execution_count": 15,
   "id": "058f1d29",
   "metadata": {},
   "outputs": [],
   "source": [
    "df['Total'] = df['Total'].apply(clean_total)"
   ]
  },
  {
   "cell_type": "code",
   "execution_count": null,
   "id": "c0fb3aaa",
   "metadata": {},
   "outputs": [],
   "source": [
    "#Top Up Sum"
   ]
  },
  {
   "cell_type": "code",
   "execution_count": 18,
   "id": "d7020cfd",
   "metadata": {},
   "outputs": [],
   "source": [
    "Topupdf = df[df['Payment Status'] == 'Paid']"
   ]
  },
  {
   "cell_type": "code",
   "execution_count": 25,
   "id": "ada79315",
   "metadata": {},
   "outputs": [
    {
     "data": {
      "text/plain": [
       "1908.2"
      ]
     },
     "execution_count": 25,
     "metadata": {},
     "output_type": "execute_result"
    }
   ],
   "source": [
    "Topupdf[Topupdf['Type'] == 'E-Wallet Topup']['Total'].sum()"
   ]
  },
  {
   "cell_type": "code",
   "execution_count": 114,
   "id": "0129b304",
   "metadata": {
    "scrolled": true
   },
   "outputs": [
    {
     "data": {
      "text/plain": [
       "Scan & Pay         316\n",
       "E-Wallet Topup     193\n",
       "Takeaway            59\n",
       "Delivery            33\n",
       "E-Voucher Topup      4\n",
       "Name: Type, dtype: int64"
      ]
     },
     "execution_count": 114,
     "metadata": {},
     "output_type": "execute_result"
    }
   ],
   "source": [
    "df['Type'].value_counts()"
   ]
  },
  {
   "cell_type": "code",
   "execution_count": 73,
   "id": "fce171a8",
   "metadata": {},
   "outputs": [],
   "source": [
    "date = '2021-08-08'"
   ]
  },
  {
   "cell_type": "code",
   "execution_count": null,
   "id": "a9b95e67",
   "metadata": {},
   "outputs": [],
   "source": [
    "#Create Function:"
   ]
  },
  {
   "cell_type": "code",
   "execution_count": 27,
   "id": "2b8065d8",
   "metadata": {},
   "outputs": [],
   "source": [
    "def collect_data(date,df1,df_ls):\n",
    "    #create df\n",
    "    df = df1.append(df_ls)\n",
    "    df.drop_duplicates(subset =\"ID\", inplace = True)\n",
    "    #clean df\n",
    "    df['Order Date/Time'] = df['Order Date/Time'].apply(clean_date)\n",
    "    df = df[df['Order Date/Time'] == date]\n",
    "    df = df[df['Status'] != 'Cancelled']\n",
    "    df['Total'] = df['Total'].apply(clean_total)\n",
    "    #get Topup Sum\n",
    "    Topupdf = df[df['Payment Status'] == 'Paid']\n",
    "    return df['Type'].value_counts(), Topupdf[Topupdf['Type'] == 'E-Wallet Topup']['Total'].sum()"
   ]
  },
  {
   "cell_type": "code",
   "execution_count": 28,
   "id": "fe5c845e",
   "metadata": {},
   "outputs": [
    {
     "data": {
      "text/plain": [
       "(Scan & Pay         316\n",
       " E-Wallet Topup     193\n",
       " Takeaway            59\n",
       " Delivery            33\n",
       " E-Voucher Topup      4\n",
       " Name: Type, dtype: int64,\n",
       " 1908.2)"
      ]
     },
     "execution_count": 28,
     "metadata": {},
     "output_type": "execute_result"
    }
   ],
   "source": [
    "collect_data('2021-08-08', df1, df_ls)"
   ]
  },
  {
   "cell_type": "code",
   "execution_count": null,
   "id": "296c8146",
   "metadata": {},
   "outputs": [],
   "source": []
  }
 ],
 "metadata": {
  "kernelspec": {
   "display_name": "Python 3",
   "language": "python",
   "name": "python3"
  },
  "language_info": {
   "codemirror_mode": {
    "name": "ipython",
    "version": 3
   },
   "file_extension": ".py",
   "mimetype": "text/x-python",
   "name": "python",
   "nbconvert_exporter": "python",
   "pygments_lexer": "ipython3",
   "version": "3.8.8"
  }
 },
 "nbformat": 4,
 "nbformat_minor": 5
}
